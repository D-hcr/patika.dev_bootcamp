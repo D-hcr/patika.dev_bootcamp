{
 "cells": [
  {
   "cell_type": "code",
   "execution_count": 1,
   "id": "38550ac3",
   "metadata": {},
   "outputs": [],
   "source": [
    "import pandas as pd\n",
    "import numpy as np"
   ]
  },
  {
   "cell_type": "code",
   "execution_count": 2,
   "id": "1c59f8e0",
   "metadata": {},
   "outputs": [],
   "source": [
    "df = pd.read_csv('Titanic_dataset.csv')"
   ]
  },
  {
   "cell_type": "code",
   "execution_count": 3,
   "id": "29495380",
   "metadata": {},
   "outputs": [
    {
     "data": {
      "text/html": [
       "<div>\n",
       "<style scoped>\n",
       "    .dataframe tbody tr th:only-of-type {\n",
       "        vertical-align: middle;\n",
       "    }\n",
       "\n",
       "    .dataframe tbody tr th {\n",
       "        vertical-align: top;\n",
       "    }\n",
       "\n",
       "    .dataframe thead th {\n",
       "        text-align: right;\n",
       "    }\n",
       "</style>\n",
       "<table border=\"1\" class=\"dataframe\">\n",
       "  <thead>\n",
       "    <tr style=\"text-align: right;\">\n",
       "      <th></th>\n",
       "      <th>PassengerId</th>\n",
       "      <th>Survived</th>\n",
       "      <th>Pclass</th>\n",
       "      <th>Name</th>\n",
       "      <th>Sex</th>\n",
       "      <th>Age</th>\n",
       "      <th>SibSp</th>\n",
       "      <th>Parch</th>\n",
       "      <th>Ticket</th>\n",
       "      <th>Fare</th>\n",
       "      <th>Cabin</th>\n",
       "      <th>Embarked</th>\n",
       "    </tr>\n",
       "  </thead>\n",
       "  <tbody>\n",
       "    <tr>\n",
       "      <th>0</th>\n",
       "      <td>1</td>\n",
       "      <td>0</td>\n",
       "      <td>3</td>\n",
       "      <td>Braund, Mr. Owen Harris</td>\n",
       "      <td>male</td>\n",
       "      <td>22.0</td>\n",
       "      <td>1</td>\n",
       "      <td>0</td>\n",
       "      <td>A/5 21171</td>\n",
       "      <td>7.2500</td>\n",
       "      <td>NaN</td>\n",
       "      <td>S</td>\n",
       "    </tr>\n",
       "    <tr>\n",
       "      <th>1</th>\n",
       "      <td>2</td>\n",
       "      <td>1</td>\n",
       "      <td>1</td>\n",
       "      <td>Cumings, Mrs. John Bradley (Florence Briggs Th...</td>\n",
       "      <td>female</td>\n",
       "      <td>38.0</td>\n",
       "      <td>1</td>\n",
       "      <td>0</td>\n",
       "      <td>PC 17599</td>\n",
       "      <td>71.2833</td>\n",
       "      <td>C85</td>\n",
       "      <td>C</td>\n",
       "    </tr>\n",
       "    <tr>\n",
       "      <th>2</th>\n",
       "      <td>3</td>\n",
       "      <td>1</td>\n",
       "      <td>3</td>\n",
       "      <td>Heikkinen, Miss. Laina</td>\n",
       "      <td>female</td>\n",
       "      <td>26.0</td>\n",
       "      <td>0</td>\n",
       "      <td>0</td>\n",
       "      <td>STON/O2. 3101282</td>\n",
       "      <td>7.9250</td>\n",
       "      <td>NaN</td>\n",
       "      <td>S</td>\n",
       "    </tr>\n",
       "    <tr>\n",
       "      <th>3</th>\n",
       "      <td>4</td>\n",
       "      <td>1</td>\n",
       "      <td>1</td>\n",
       "      <td>Futrelle, Mrs. Jacques Heath (Lily May Peel)</td>\n",
       "      <td>female</td>\n",
       "      <td>35.0</td>\n",
       "      <td>1</td>\n",
       "      <td>0</td>\n",
       "      <td>113803</td>\n",
       "      <td>53.1000</td>\n",
       "      <td>C123</td>\n",
       "      <td>S</td>\n",
       "    </tr>\n",
       "    <tr>\n",
       "      <th>4</th>\n",
       "      <td>5</td>\n",
       "      <td>0</td>\n",
       "      <td>3</td>\n",
       "      <td>Allen, Mr. William Henry</td>\n",
       "      <td>male</td>\n",
       "      <td>35.0</td>\n",
       "      <td>0</td>\n",
       "      <td>0</td>\n",
       "      <td>373450</td>\n",
       "      <td>8.0500</td>\n",
       "      <td>NaN</td>\n",
       "      <td>S</td>\n",
       "    </tr>\n",
       "    <tr>\n",
       "      <th>5</th>\n",
       "      <td>6</td>\n",
       "      <td>0</td>\n",
       "      <td>3</td>\n",
       "      <td>Moran, Mr. James</td>\n",
       "      <td>male</td>\n",
       "      <td>NaN</td>\n",
       "      <td>0</td>\n",
       "      <td>0</td>\n",
       "      <td>330877</td>\n",
       "      <td>8.4583</td>\n",
       "      <td>NaN</td>\n",
       "      <td>Q</td>\n",
       "    </tr>\n",
       "    <tr>\n",
       "      <th>6</th>\n",
       "      <td>7</td>\n",
       "      <td>0</td>\n",
       "      <td>1</td>\n",
       "      <td>McCarthy, Mr. Timothy J</td>\n",
       "      <td>male</td>\n",
       "      <td>54.0</td>\n",
       "      <td>0</td>\n",
       "      <td>0</td>\n",
       "      <td>17463</td>\n",
       "      <td>51.8625</td>\n",
       "      <td>E46</td>\n",
       "      <td>S</td>\n",
       "    </tr>\n",
       "    <tr>\n",
       "      <th>7</th>\n",
       "      <td>8</td>\n",
       "      <td>0</td>\n",
       "      <td>3</td>\n",
       "      <td>Palsson, Master. Gosta Leonard</td>\n",
       "      <td>male</td>\n",
       "      <td>2.0</td>\n",
       "      <td>3</td>\n",
       "      <td>1</td>\n",
       "      <td>349909</td>\n",
       "      <td>21.0750</td>\n",
       "      <td>NaN</td>\n",
       "      <td>S</td>\n",
       "    </tr>\n",
       "    <tr>\n",
       "      <th>8</th>\n",
       "      <td>9</td>\n",
       "      <td>1</td>\n",
       "      <td>3</td>\n",
       "      <td>Johnson, Mrs. Oscar W (Elisabeth Vilhelmina Berg)</td>\n",
       "      <td>female</td>\n",
       "      <td>27.0</td>\n",
       "      <td>0</td>\n",
       "      <td>2</td>\n",
       "      <td>347742</td>\n",
       "      <td>11.1333</td>\n",
       "      <td>NaN</td>\n",
       "      <td>S</td>\n",
       "    </tr>\n",
       "    <tr>\n",
       "      <th>9</th>\n",
       "      <td>10</td>\n",
       "      <td>1</td>\n",
       "      <td>2</td>\n",
       "      <td>Nasser, Mrs. Nicholas (Adele Achem)</td>\n",
       "      <td>female</td>\n",
       "      <td>14.0</td>\n",
       "      <td>1</td>\n",
       "      <td>0</td>\n",
       "      <td>237736</td>\n",
       "      <td>30.0708</td>\n",
       "      <td>NaN</td>\n",
       "      <td>C</td>\n",
       "    </tr>\n",
       "  </tbody>\n",
       "</table>\n",
       "</div>"
      ],
      "text/plain": [
       "   PassengerId  Survived  Pclass  \\\n",
       "0            1         0       3   \n",
       "1            2         1       1   \n",
       "2            3         1       3   \n",
       "3            4         1       1   \n",
       "4            5         0       3   \n",
       "5            6         0       3   \n",
       "6            7         0       1   \n",
       "7            8         0       3   \n",
       "8            9         1       3   \n",
       "9           10         1       2   \n",
       "\n",
       "                                                Name     Sex   Age  SibSp  \\\n",
       "0                            Braund, Mr. Owen Harris    male  22.0      1   \n",
       "1  Cumings, Mrs. John Bradley (Florence Briggs Th...  female  38.0      1   \n",
       "2                             Heikkinen, Miss. Laina  female  26.0      0   \n",
       "3       Futrelle, Mrs. Jacques Heath (Lily May Peel)  female  35.0      1   \n",
       "4                           Allen, Mr. William Henry    male  35.0      0   \n",
       "5                                   Moran, Mr. James    male   NaN      0   \n",
       "6                            McCarthy, Mr. Timothy J    male  54.0      0   \n",
       "7                     Palsson, Master. Gosta Leonard    male   2.0      3   \n",
       "8  Johnson, Mrs. Oscar W (Elisabeth Vilhelmina Berg)  female  27.0      0   \n",
       "9                Nasser, Mrs. Nicholas (Adele Achem)  female  14.0      1   \n",
       "\n",
       "   Parch            Ticket     Fare Cabin Embarked  \n",
       "0      0         A/5 21171   7.2500   NaN        S  \n",
       "1      0          PC 17599  71.2833   C85        C  \n",
       "2      0  STON/O2. 3101282   7.9250   NaN        S  \n",
       "3      0            113803  53.1000  C123        S  \n",
       "4      0            373450   8.0500   NaN        S  \n",
       "5      0            330877   8.4583   NaN        Q  \n",
       "6      0             17463  51.8625   E46        S  \n",
       "7      1            349909  21.0750   NaN        S  \n",
       "8      2            347742  11.1333   NaN        S  \n",
       "9      0            237736  30.0708   NaN        C  "
      ]
     },
     "execution_count": 3,
     "metadata": {},
     "output_type": "execute_result"
    }
   ],
   "source": [
    "df.head(10)"
   ]
  },
  {
   "cell_type": "markdown",
   "id": "07180418",
   "metadata": {},
   "source": [
    "Calculates the average age of passengers who survived."
   ]
  },
  {
   "cell_type": "code",
   "execution_count": 5,
   "id": "c629e3dc",
   "metadata": {},
   "outputs": [
    {
     "name": "stdout",
     "output_type": "stream",
     "text": [
      "28.343689655172415\n"
     ]
    }
   ],
   "source": [
    "deceased = df[df['Survived']==1]\n",
    "average_age_deceased = deceased['Age'].mean()\n",
    "\n",
    "print(average_age_deceased)"
   ]
  },
  {
   "cell_type": "markdown",
   "id": "63d2ec6d",
   "metadata": {},
   "source": [
    "Find the average and median ticket prices of passengers who did not survive the disaster."
   ]
  },
  {
   "cell_type": "code",
   "execution_count": null,
   "id": "c970d1a2",
   "metadata": {},
   "outputs": [
    {
     "name": "stdout",
     "output_type": "stream",
     "text": [
      "Sum of ticket prices: 12142.7199, Median of ticket prices : 10.5\n"
     ]
    }
   ],
   "source": [
    "deceased = df[df['Survived']== 0]\n",
    "sum_fare_deceased = deceased['Fare'].sum()\n",
    "medyan_fare_deceased = deceased['Fare'].median()\n",
    "\n",
    "print(f\"Sum of ticket prices: {sum_fare_deceased}, Median of ticket prices : {medyan_fare_deceased}\")"
   ]
  },
  {
   "cell_type": "markdown",
   "id": "43866073",
   "metadata": {},
   "source": [
    "Find the average age of males who did not survive the disaster."
   ]
  },
  {
   "cell_type": "code",
   "execution_count": null,
   "id": "0e0acf53",
   "metadata": {},
   "outputs": [
    {
     "name": "stdout",
     "output_type": "stream",
     "text": [
      "31.618055555555557\n"
     ]
    }
   ],
   "source": [
    "deceased = df[(df['Survived']== 0 )& (df['Sex']== 'male')]\n",
    "average_age_deceased_male = deceased['Age'].mean()\n",
    "print(average_age_deceased_male)\n"
   ]
  },
  {
   "cell_type": "markdown",
   "id": "836fe244",
   "metadata": {},
   "source": [
    "Find the average age of females who did not survive the disaster."
   ]
  },
  {
   "cell_type": "code",
   "execution_count": null,
   "id": "c1a11216",
   "metadata": {},
   "outputs": [
    {
     "name": "stdout",
     "output_type": "stream",
     "text": [
      "25.046875\n"
     ]
    }
   ],
   "source": [
    "deceased = df[(df['Survived']== 0 )& (df['Sex']== 'female')]\n",
    "average_age_deceased_female = deceased['Age'].mean()\n",
    "print(average_age_deceased_female)"
   ]
  },
  {
   "cell_type": "markdown",
   "id": "6314510f",
   "metadata": {},
   "source": [
    "Find the average age of passengers who survived the disaster."
   ]
  },
  {
   "cell_type": "code",
   "execution_count": 24,
   "id": "980f8660",
   "metadata": {},
   "outputs": [
    {
     "name": "stdout",
     "output_type": "stream",
     "text": [
      "28.343689655172415\n"
     ]
    }
   ],
   "source": [
    "deceased = df[df['Survived']== 1]\n",
    "average_age = deceased['Age'].mean()\n",
    "print(average_age)"
   ]
  },
  {
   "cell_type": "markdown",
   "id": "96c8cd64",
   "metadata": {},
   "source": [
    "Find the average ticket price of passengers who survived the disaster."
   ]
  },
  {
   "cell_type": "code",
   "execution_count": null,
   "id": "cae38d8d",
   "metadata": {},
   "outputs": [
    {
     "name": "stdout",
     "output_type": "stream",
     "text": [
      "48.39540760233918\n"
     ]
    }
   ],
   "source": [
    "deceased = df[df['Survived']== 1]\n",
    "average_fare_survivors = deceased['Fare'].mean()\n",
    "print(average_fare_survivors)"
   ]
  },
  {
   "cell_type": "markdown",
   "id": "f1092d04",
   "metadata": {},
   "source": [
    "Find the total number of passengers who survived the disaster…  \n",
    "(hint: you can use the code `len(df_titanic[(df_titanic.Survived==1)])` to find this number.)"
   ]
  },
  {
   "cell_type": "code",
   "execution_count": 26,
   "id": "9dc22365",
   "metadata": {},
   "outputs": [
    {
     "name": "stdout",
     "output_type": "stream",
     "text": [
      "342\n"
     ]
    }
   ],
   "source": [
    "deceased = df[df['Survived']== 1]\n",
    "print(len(deceased))"
   ]
  },
  {
   "cell_type": "markdown",
   "id": "7c1589d0",
   "metadata": {},
   "source": [
    "Find the median ticket price of passengers under 10 years old."
   ]
  },
  {
   "cell_type": "code",
   "execution_count": null,
   "id": "03bb970d",
   "metadata": {},
   "outputs": [
    {
     "name": "stdout",
     "output_type": "stream",
     "text": [
      "30.576679032258067\n"
     ]
    }
   ],
   "source": [
    "deceased = df[df['Age'] < 10]\n",
    "average_age_fare = deceased['Fare'].mean()\n",
    "print(average_age_fare)"
   ]
  },
  {
   "cell_type": "markdown",
   "id": "36a37b8e",
   "metadata": {},
   "source": [
    "Compare the average and median ticket prices of 1st class, 2nd class, and 3rd class. (The `Pclass` variable contains the classes.)"
   ]
  },
  {
   "cell_type": "code",
   "execution_count": 28,
   "id": "422291bd",
   "metadata": {},
   "outputs": [
    {
     "name": "stdout",
     "output_type": "stream",
     "text": [
      "   Pclass       mean   median\n",
      "0       1  84.154687  60.2875\n",
      "1       2  20.662183  14.2500\n",
      "2       3  13.675550   8.0500\n"
     ]
    }
   ],
   "source": [
    "fare_stats = df.groupby('Pclass')['Fare'].agg(['mean', 'median']).reset_index()\n",
    "print(fare_stats)"
   ]
  },
  {
   "cell_type": "markdown",
   "id": "7bb51aa3",
   "metadata": {},
   "source": [
    "Compare the ratio of women who died in the disaster to the ratio of men who died. (For example, for men: the ratio is calculated by dividing the number of men who died by the total number of men.)"
   ]
  },
  {
   "cell_type": "code",
   "execution_count": 29,
   "id": "08512ee0",
   "metadata": {},
   "outputs": [
    {
     "name": "stdout",
     "output_type": "stream",
     "text": [
      "Sex\n",
      "male      0.811092\n",
      "female    0.257962\n",
      "Name: count, dtype: float64\n"
     ]
    }
   ],
   "source": [
    "total_by_sex = df['Sex'].value_counts()\n",
    "deceased_by_sex = df[df['Survived'] == 0]['Sex'].value_counts()\n",
    "death_ratio = deceased_by_sex / total_by_sex\n",
    "print(death_ratio)\n"
   ]
  }
 ],
 "metadata": {
  "kernelspec": {
   "display_name": "general",
   "language": "python",
   "name": "python3"
  },
  "language_info": {
   "codemirror_mode": {
    "name": "ipython",
    "version": 3
   },
   "file_extension": ".py",
   "mimetype": "text/x-python",
   "name": "python",
   "nbconvert_exporter": "python",
   "pygments_lexer": "ipython3",
   "version": "3.12.3"
  }
 },
 "nbformat": 4,
 "nbformat_minor": 5
}
